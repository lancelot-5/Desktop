{
 "cells": [
  {
   "cell_type": "code",
   "execution_count": null,
   "metadata": {},
   "outputs": [],
   "source": [
    "def breadthFirstSearch(problem):\n",
    "    \"\"\"Search the shallowest nodes in the search tree first.\"\"\"\n",
    "    \"*** YOUR CODE HERE ***\"\n",
    " \n",
    "    from util import Queue\n",
    "    from game import Directions\n",
    "    # fringe 候选， closed 走过的节点\n",
    "    # 广度搜索选择栈\n",
    "    fringe = Queue()\n",
    "    closed = []\n",
    "    \n",
    "    # 加入起始状态节点\n",
    "    fringe.push((problem.getStartState(), []))\n",
    "    \n",
    "    # 如果候选不为空，则循环搜索\n",
    "    while not fringe.isEmpty():\n",
    "        \n",
    "        # 当前节点\n",
    "        cur_node, actions = fringe.pop()\n",
    " \n",
    "        # 如果当前节点到达目标位置\n",
    "        if problem.isGoalState(cur_node):\n",
    "            return actions\n",
    " \n",
    "        if cur_node not in closed:\n",
    "            # 寻找后继节点\n",
    "            expand = problem.getSuccessors(cur_node)\n",
    "            # 当前节点加入到走过路程中\n",
    "            closed.append(cur_node)\n",
    " \n",
    "            for location, direction, cost in expand:\n",
    "                # 如果后继节点不在走过路程中，就新建一个候选，这个候选的路径是当前节点路径加上此次方向\n",
    "                if (location not in closed):\n",
    "                    fringe.push((location, actions + [direction]))\n",
    " \n",
    "    util.raiseNotDefined()\n",
    " "
   ]
  }
 ],
 "metadata": {
  "kernelspec": {
   "display_name": "Python 3.7.13 ('pythoncv')",
   "language": "python",
   "name": "python3"
  },
  "language_info": {
   "name": "python",
   "version": "3.7.13"
  },
  "orig_nbformat": 4,
  "vscode": {
   "interpreter": {
    "hash": "489abf6f87bff1d62ff0d75e7fc9ae8fd3b1765d1b578585ccda4fa8b2e827c6"
   }
  }
 },
 "nbformat": 4,
 "nbformat_minor": 2
}
